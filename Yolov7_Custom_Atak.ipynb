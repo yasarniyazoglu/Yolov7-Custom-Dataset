{
  "cells": [
    {
      "cell_type": "markdown",
      "metadata": {
        "id": "4Kg04rueVnNH"
      },
      "source": [
        "**Google Drive Bağlantısı**"
      ]
    },
    {
      "cell_type": "code",
      "execution_count": null,
      "metadata": {
        "id": "vf3ZjF99ToLy"
      },
      "outputs": [],
      "source": [
        "from google.colab import drive\n",
        "drive.mount('/content/drive')"
      ]
    },
    {
      "cell_type": "markdown",
      "metadata": {
        "id": "udRTg2-RVvtl"
      },
      "source": [
        "**Dosyaları Zipten Çıkarma**"
      ]
    },
    {
      "cell_type": "code",
      "execution_count": null,
      "metadata": {
        "id": "DZylKD1dTpUN"
      },
      "outputs": [],
      "source": [
        "!cd /content\n",
        "!unzip /content/drive/MyDrive/data_f1.zip "
      ]
    },
    {
      "cell_type": "markdown",
      "metadata": {
        "id": "ssaqninrVxXr"
      },
      "source": [
        "**Kurulumlar**"
      ]
    },
    {
      "cell_type": "code",
      "execution_count": null,
      "metadata": {
        "id": "Q_Ih1vWTTpR5"
      },
      "outputs": [],
      "source": [
        "!git clone https://github.com/WongKinYiu/yolov7\n",
        "%cd yolov7\n",
        "!pip install -r requirements.txt"
      ]
    },
    {
      "cell_type": "markdown",
      "metadata": {
        "id": "qenMSV3AV0gP"
      },
      "source": [
        "**Çoklu Ekran Kartında Eğitim (Multi GPUs)**"
      ]
    },
    {
      "cell_type": "code",
      "execution_count": null,
      "metadata": {
        "id": "oc85GQgxUxwd"
      },
      "outputs": [],
      "source": [
        "\"\"\"\n",
        "!python -m torch.distributed.launch --nproc_per_node 4 --master_port 9527 train.py \n",
        "--workers 8 \n",
        "--device 0,1,2,3 \n",
        "--sync-bn \n",
        "--batch-size 128 \n",
        "--data data/coco.yaml \n",
        "--img 640 640 \n",
        "--cfg cfg/training/yolov7.yaml \n",
        "--weights '' \n",
        "--name yolov7 \n",
        "--hyp data/hyp.scratch.p5.yaml\n",
        "\"\"\""
      ]
    },
    {
      "cell_type": "markdown",
      "metadata": {
        "id": "87L4cWKMV6nT"
      },
      "source": [
        "**Transfer Learning içi Ağırlığı İndirme**"
      ]
    },
    {
      "cell_type": "code",
      "execution_count": null,
      "metadata": {
        "id": "ep-UvUBfVGK1"
      },
      "outputs": [],
      "source": [
        "%cd /content/yolov7\n",
        "!wget https://github.com/WongKinYiu/yolov7/releases/download/v0.1/yolov7x_training.pt"
      ]
    },
    {
      "cell_type": "code",
      "source": [
        "import torch\n",
        "torch.cuda.is_available()"
      ],
      "metadata": {
        "id": "tFulmjOub28O"
      },
      "execution_count": null,
      "outputs": []
    },
    {
      "cell_type": "markdown",
      "metadata": {
        "id": "PTG79M8wV7yS"
      },
      "source": [
        "**Tek Ekran Kartında Eğitim (Training Single GPU)**"
      ]
    },
    {
      "cell_type": "code",
      "execution_count": null,
      "metadata": {
        "id": "zVVamNzbTpWj"
      },
      "outputs": [],
      "source": [
        "!python train.py --batch-size 4 --data custom.yaml --img 640 640 --cfg cfg/training/yolov7x.yaml  --epochs 50 \\\n",
        "--weights '/content/yolov7/yolov7x_training.pt' \\\n",
        "--name yolov7 \\\n",
        "--hyp data/hyp.scratch.p5.yaml \\\n",
        "--device 0 \\\n",
        "--adam"
      ]
    },
    {
      "cell_type": "markdown",
      "metadata": {
        "id": "tguZE8lgWHUB"
      },
      "source": [
        "**TensorBoard**"
      ]
    },
    {
      "cell_type": "code",
      "execution_count": null,
      "metadata": {
        "id": "wNtRztXVWI0d"
      },
      "outputs": [],
      "source": [
        "%load_ext tensorboard\n",
        "%tensorboard --logdir /content/yolov7/runs/train/yolov74"
      ]
    },
    {
      "cell_type": "markdown",
      "metadata": {
        "id": "8Mp8bUcNWKjM"
      },
      "source": [
        "**Test**"
      ]
    },
    {
      "cell_type": "code",
      "execution_count": null,
      "metadata": {
        "id": "IF8JHvaDTpY4"
      },
      "outputs": [],
      "source": [
        "!python test.py --data custom.yaml --img 640 --batch 4 --weights /content/yolov7/runs/train/yolov74/weights/best.pt --name yolov7_640_val \\\n",
        "--conf 0.50 \\\n",
        "--device 0"
      ]
    },
    {
      "cell_type": "markdown",
      "metadata": {
        "id": "LVDFmqzFWPLy"
      },
      "source": [
        "**Resim Üzerinden Test**"
      ]
    },
    {
      "cell_type": "code",
      "execution_count": null,
      "metadata": {
        "id": "QRAQ7m1ETpbY"
      },
      "outputs": [],
      "source": [
        "!python detect.py --weights /content/yolov7/runs/train/yolov74/weights/best.pt --conf 0.50--img-size 640 \\\n",
        "--source ferrari.jpg"
      ]
    },
    {
      "cell_type": "markdown",
      "metadata": {
        "id": "WDB5lzRuWTxv"
      },
      "source": [
        "**Video Üzerinden Test**"
      ]
    },
    {
      "cell_type": "code",
      "execution_count": null,
      "metadata": {
        "id": "b8HnKeU-Tpds"
      },
      "outputs": [],
      "source": [
        "!python detect.py --weights /content/yolov7/runs/train/yolov74/weights/best.pt --conf 0.50 --img-size 640 \\\n",
        "--source /content/drive/MyDrive/videoplayback_test.mp4"
      ]
    }
  ],
  "metadata": {
    "colab": {
      "provenance": []
    },
    "kernelspec": {
      "display_name": "Python 3",
      "name": "python3"
    },
    "language_info": {
      "name": "python"
    },
    "accelerator": "GPU",
    "gpuClass": "standard"
  },
  "nbformat": 4,
  "nbformat_minor": 0
}